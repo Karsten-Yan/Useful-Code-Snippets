{
 "cells": [
  {
   "cell_type": "markdown",
   "metadata": {},
   "source": [
    "# Setup and Data mining"
   ]
  },
  {
   "cell_type": "code",
   "execution_count": null,
   "metadata": {},
   "outputs": [],
   "source": [
    "# display all columns when accessing a df\n",
    "pd.options.display.max_columns = None"
   ]
  },
  {
   "cell_type": "code",
   "execution_count": null,
   "metadata": {},
   "outputs": [],
   "source": [
    "# sets seaborn style with linewidths etc\n",
    "sns.set(style=\"white\", palette=\"pastel\",font_scale=1.5, rc={\"lines.linewidth\": 2.5,'figure.figsize':(11.7,8.27)})"
   ]
  },
  {
   "cell_type": "code",
   "execution_count": null,
   "metadata": {},
   "outputs": [],
   "source": [
    "# make a list of all files matching the pattern (alls csvs)\n",
    "path = r'file to csvs' # use your path\n",
    "all_files = glob.glob(path + \"/*.csv\")"
   ]
  },
  {
   "cell_type": "markdown",
   "metadata": {},
   "source": [
    "# Data Processing and Sorting"
   ]
  },
  {
   "cell_type": "code",
   "execution_count": null,
   "metadata": {},
   "outputs": [],
   "source": [
    "#show non null entries in column\n",
    "df[np.invert(df.column.isnull())].column.head()"
   ]
  },
  {
   "cell_type": "code",
   "execution_count": null,
   "metadata": {},
   "outputs": [],
   "source": [
    "# groups one variable by another, counts the values and normalizes for each grouping element, useful if you want % values in countplot instead of absolute\n",
    "df[\"target\"].groupby(df[\"grouping\"]).value_counts(normalize=True).rename(\"prob\").reset_index()"
   ]
  },
  {
   "cell_type": "code",
   "execution_count": 42,
   "metadata": {
    "ExecuteTime": {
     "end_time": "2020-03-28T15:45:37.290694Z",
     "start_time": "2020-03-28T15:45:37.266690Z"
    }
   },
   "outputs": [],
   "source": [
    "# remove outlier with z score over 3\n",
    "\n",
    "from scipy import stats\n",
    "z = np.abs(stats.zscore(df1))\n",
    "df1 = df1[(z < 3).all(axis=1)]"
   ]
  },
  {
   "cell_type": "markdown",
   "metadata": {},
   "source": [
    "# Plotting"
   ]
  },
  {
   "cell_type": "code",
   "execution_count": null,
   "metadata": {},
   "outputs": [],
   "source": [
    "# Legend Outside of Figure\n",
    "plt.legend(bbox_to_anchor=(1.05, 1), loc=2, borderaxespad=0., fancybox=True)"
   ]
  },
  {
   "cell_type": "code",
   "execution_count": null,
   "metadata": {},
   "outputs": [],
   "source": [
    "# make specific graph invisible (useful for emptysubplots), works also for legends etc\n",
    "ax[0][0].set_visible(False)"
   ]
  },
  {
   "cell_type": "markdown",
   "metadata": {},
   "source": [
    "## Plotly Maps"
   ]
  },
  {
   "cell_type": "code",
   "execution_count": null,
   "metadata": {},
   "outputs": [],
   "source": [
    "# plotly map code\n",
    "\n",
    "fig = px.scatter_mapbox(data, lat=\"lat\", lon=\"long\", \n",
    "                        hover_name=\"name\",\n",
    "                        hover_data=[\"column1\",\"column2\"],\n",
    "                        zoom=1, \n",
    "                        center={\"lat\":51.1, \"lon\":10.3},\n",
    "                        color_continuous_scale=px.colors.sequential.Jet,\n",
    "                        height=500, color=\"column3\",\n",
    "                        mapbox_style=\"open-street-map\",opacity=1,\n",
    "                        size=\"column4\", size_max=10)\n",
    "fig.update_layout(margin={\"r\":0,\"t\":0,\"l\":0,\"b\":0})\n",
    "fig.show()"
   ]
  },
  {
   "cell_type": "code",
   "execution_count": null,
   "metadata": {},
   "outputs": [],
   "source": [
    "# plotly annotation\n",
    "\n",
    "fig.update_layout(\n",
    "    showlegend=False,\n",
    "    annotations=[\n",
    "        dict(\n",
    "            x=0.13,\n",
    "            y=0,\n",
    "            text=\"annotation string\",\n",
    "            font=dict(\n",
    "                color=\"black\",\n",
    "                size=75\n",
    "            )\n",
    "        )\n",
    "    ]\n",
    "    )"
   ]
  },
  {
   "cell_type": "code",
   "execution_count": null,
   "metadata": {},
   "outputs": [],
   "source": [
    "# save plotly    \n",
    "fig.write_image(\"figs/map\"+str(year)+\".png\", width=1000, height=700, scale =3)"
   ]
  },
  {
   "cell_type": "code",
   "execution_count": 43,
   "metadata": {
    "ExecuteTime": {
     "end_time": "2020-03-28T15:45:37.308698Z",
     "start_time": "2020-03-28T15:45:37.291694Z"
    }
   },
   "outputs": [],
   "source": [
    "# correlation matrix dirk style\n",
    "\n",
    "plt.figure (figsize=(12,12))\n",
    "mask = np.triu(df_model.corr())\n",
    "ax = sns.heatmap(round(df_model.corr()*100)\n",
    "                 ,annot=True\n",
    "                 ,mask=mask\n",
    "                 ,cmap='coolwarm'\n",
    "                 ,center=0)\n",
    "ax.set_ylim((0,10))\n",
    "ax.set_xlim((0,10));"
   ]
  },
  {
   "cell_type": "code",
   "execution_count": null,
   "metadata": {},
   "outputs": [],
   "source": [
    "# pretty confusion matrix\n",
    "\n",
    "cm = confusion_matrix(y_test, model.predict(X_test))\n",
    "cm = cm.astype('float') / cm.sum(axis=1)[:, np.newaxis] # normalize the data\n",
    "\n",
    "# view with a heatmap\n",
    "plt.figure(i)\n",
    "sns.heatmap(cm, annot=True, annot_kws={\"size\":30}, \n",
    "        cmap='Blues', square=True, fmt='.3f')\n",
    "plt.ylabel('True label')\n",
    "plt.xlabel('Predicted label')\n",
    "plt.ylim(0,2)\n",
    "plt.title('Confusion matrix for:\\n{}'.format(model.__class__.__name__));"
   ]
  },
  {
   "cell_type": "markdown",
   "metadata": {},
   "source": [
    "# Pipelines"
   ]
  },
  {
   "cell_type": "code",
   "execution_count": null,
   "metadata": {},
   "outputs": [],
   "source": [
    "# preprocessing pipeline dirk style\n",
    "\n",
    "imputer1 = SimpleImputer(strategy=\"median\")\n",
    "scaler1 = StandardScaler()\n",
    "numeric_transformer = make_pipeline(imputer1,scaler1)\n",
    "\n",
    "\n",
    "imputer2 = SimpleImputer(strategy='constant', fill_value='missing')\n",
    "encoder = OneHotEncoder(handle_unknown='error',drop=\"first\")\n",
    "object_transformer = make_pipeline(imputer2,encoder)\n",
    "\n",
    "preprocessor = ColumnTransformer(\n",
    "    transformers=[\n",
    "        ('num', numeric_transformer, numeric_features),\n",
    "        ('cat', object_transformer, object_features)\n",
    "    ])"
   ]
  },
  {
   "cell_type": "code",
   "execution_count": null,
   "metadata": {},
   "outputs": [],
   "source": [
    "# feature selection\n",
    "\n",
    "reg = Pipeline(steps=[('preprocessor', preprocessor),\n",
    "                      ('poly', PolynomialFeatures(1)),\n",
    "                      ('feature_selection', SelectFromModel(\n",
    "                          estimator=RandomForestRegressor(max_depth=2,\n",
    "                                                random_state=0\n",
    "                                                ,n_estimators=1000\n",
    "                                               ),\n",
    "                      threshold='mean'\n",
    "                      )),\n",
    "                      ('regressor',\n",
    "                       LassoCV(cv=5, random_state=0)\n",
    "                      )])"
   ]
  }
 ],
 "metadata": {
  "kernelspec": {
   "display_name": "Python 3",
   "language": "python",
   "name": "python3"
  },
  "language_info": {
   "codemirror_mode": {
    "name": "ipython",
    "version": 3
   },
   "file_extension": ".py",
   "mimetype": "text/x-python",
   "name": "python",
   "nbconvert_exporter": "python",
   "pygments_lexer": "ipython3",
   "version": "3.7.4"
  },
  "toc": {
   "base_numbering": 1,
   "nav_menu": {},
   "number_sections": true,
   "sideBar": true,
   "skip_h1_title": false,
   "title_cell": "Table of Contents",
   "title_sidebar": "Contents",
   "toc_cell": false,
   "toc_position": {},
   "toc_section_display": true,
   "toc_window_display": false
  },
  "toc-showcode": false,
  "toc-showmarkdowntxt": false,
  "toc-showtags": false,
  "varInspector": {
   "cols": {
    "lenName": 16,
    "lenType": 16,
    "lenVar": 40
   },
   "kernels_config": {
    "python": {
     "delete_cmd_postfix": "",
     "delete_cmd_prefix": "del ",
     "library": "var_list.py",
     "varRefreshCmd": "print(var_dic_list())"
    },
    "r": {
     "delete_cmd_postfix": ") ",
     "delete_cmd_prefix": "rm(",
     "library": "var_list.r",
     "varRefreshCmd": "cat(var_dic_list()) "
    }
   },
   "types_to_exclude": [
    "module",
    "function",
    "builtin_function_or_method",
    "instance",
    "_Feature"
   ],
   "window_display": false
  }
 },
 "nbformat": 4,
 "nbformat_minor": 4
}
